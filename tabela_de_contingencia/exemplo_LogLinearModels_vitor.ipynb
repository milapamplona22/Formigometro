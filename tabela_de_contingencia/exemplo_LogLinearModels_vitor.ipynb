{
 "cells": [
  {
   "cell_type": "markdown",
   "metadata": {},
   "source": [
    "Marcelo 30/11/2016"
   ]
  },
  {
   "cell_type": "markdown",
   "metadata": {},
   "source": [
    "# Modelos Log Lineares para análise de tabelas de contingência\n",
    "## Exemplo: experimento do Vitor\n",
    "No experimento, o Vitor tirava formigas de uma trilha e colova na trilha da sub colonia irma e contou quantas formigas iam para um lado ou outro da trilha (escolha) nas seguintes condições:\n",
    "* quando ela transportava ou não (transporte)\n",
    "* quando havia iluminação ou não (iluminação)\n",
    "* quando as colônias estavam orientadas para o mesmo lado ou opostos (orientação)\n",
    "\n",
    "A ideia era ver quais desses fatores faziam com que as formigas fossem preferencialmente em direção à colônia ou às folhas, uma vez que se forem meio à meio elas não estariam utilizando nenhuma desses fatores para decidir para qual sentido ir após o deslocamento\n"
   ]
  },
  {
   "cell_type": "markdown",
   "metadata": {},
   "source": [
    "## 1.Dados"
   ]
  },
  {
   "cell_type": "code",
   "execution_count": 7,
   "metadata": {
    "collapsed": false
   },
   "outputs": [
    {
     "data": {
      "text/html": [
       "<table>\n",
       "<thead><tr><th scope=col>observado</th><th scope=col>orientacao</th><th scope=col>iluminacao</th><th scope=col>transporte</th><th scope=col>escolha</th></tr></thead>\n",
       "<tbody>\n",
       "\t<tr><td>41</td><td>0 </td><td>0 </td><td>0 </td><td>0 </td></tr>\n",
       "\t<tr><td>59</td><td>0 </td><td>0 </td><td>0 </td><td>1 </td></tr>\n",
       "\t<tr><td>75</td><td>0 </td><td>0 </td><td>1 </td><td>0 </td></tr>\n",
       "\t<tr><td>25</td><td>0 </td><td>0 </td><td>1 </td><td>1 </td></tr>\n",
       "\t<tr><td>28</td><td>0 </td><td>1 </td><td>0 </td><td>0 </td></tr>\n",
       "\t<tr><td>72</td><td>0 </td><td>1 </td><td>0 </td><td>1 </td></tr>\n",
       "\t<tr><td>69</td><td>0 </td><td>1 </td><td>1 </td><td>0 </td></tr>\n",
       "\t<tr><td>31</td><td>0 </td><td>1 </td><td>1 </td><td>1 </td></tr>\n",
       "\t<tr><td>68</td><td>1 </td><td>0 </td><td>0 </td><td>0 </td></tr>\n",
       "\t<tr><td>32</td><td>1 </td><td>0 </td><td>0 </td><td>1 </td></tr>\n",
       "\t<tr><td>18</td><td>1 </td><td>0 </td><td>1 </td><td>0 </td></tr>\n",
       "\t<tr><td>82</td><td>1 </td><td>0 </td><td>1 </td><td>1 </td></tr>\n",
       "\t<tr><td>63</td><td>1 </td><td>1 </td><td>0 </td><td>0 </td></tr>\n",
       "\t<tr><td>37</td><td>1 </td><td>1 </td><td>0 </td><td>1 </td></tr>\n",
       "\t<tr><td>31</td><td>1 </td><td>1 </td><td>1 </td><td>0 </td></tr>\n",
       "\t<tr><td>69</td><td>1 </td><td>1 </td><td>1 </td><td>1 </td></tr>\n",
       "</tbody>\n",
       "</table>\n"
      ],
      "text/latex": [
       "\\begin{tabular}{r|lllll}\n",
       " observado & orientacao & iluminacao & transporte & escolha\\\\\n",
       "\\hline\n",
       "\t 41 & 0  & 0  & 0  & 0 \\\\\n",
       "\t 59 & 0  & 0  & 0  & 1 \\\\\n",
       "\t 75 & 0  & 0  & 1  & 0 \\\\\n",
       "\t 25 & 0  & 0  & 1  & 1 \\\\\n",
       "\t 28 & 0  & 1  & 0  & 0 \\\\\n",
       "\t 72 & 0  & 1  & 0  & 1 \\\\\n",
       "\t 69 & 0  & 1  & 1  & 0 \\\\\n",
       "\t 31 & 0  & 1  & 1  & 1 \\\\\n",
       "\t 68 & 1  & 0  & 0  & 0 \\\\\n",
       "\t 32 & 1  & 0  & 0  & 1 \\\\\n",
       "\t 18 & 1  & 0  & 1  & 0 \\\\\n",
       "\t 82 & 1  & 0  & 1  & 1 \\\\\n",
       "\t 63 & 1  & 1  & 0  & 0 \\\\\n",
       "\t 37 & 1  & 1  & 0  & 1 \\\\\n",
       "\t 31 & 1  & 1  & 1  & 0 \\\\\n",
       "\t 69 & 1  & 1  & 1  & 1 \\\\\n",
       "\\end{tabular}\n"
      ],
      "text/markdown": [
       "\n",
       "observado | orientacao | iluminacao | transporte | escolha | \n",
       "|---|---|---|---|---|---|---|---|---|---|---|---|---|---|---|---|\n",
       "| 41 | 0  | 0  | 0  | 0  | \n",
       "| 59 | 0  | 0  | 0  | 1  | \n",
       "| 75 | 0  | 0  | 1  | 0  | \n",
       "| 25 | 0  | 0  | 1  | 1  | \n",
       "| 28 | 0  | 1  | 0  | 0  | \n",
       "| 72 | 0  | 1  | 0  | 1  | \n",
       "| 69 | 0  | 1  | 1  | 0  | \n",
       "| 31 | 0  | 1  | 1  | 1  | \n",
       "| 68 | 1  | 0  | 0  | 0  | \n",
       "| 32 | 1  | 0  | 0  | 1  | \n",
       "| 18 | 1  | 0  | 1  | 0  | \n",
       "| 82 | 1  | 0  | 1  | 1  | \n",
       "| 63 | 1  | 1  | 0  | 0  | \n",
       "| 37 | 1  | 1  | 0  | 1  | \n",
       "| 31 | 1  | 1  | 1  | 0  | \n",
       "| 69 | 1  | 1  | 1  | 1  | \n",
       "\n",
       "\n"
      ],
      "text/plain": [
       "   observado orientacao iluminacao transporte escolha\n",
       "1  41        0          0          0          0      \n",
       "2  59        0          0          0          1      \n",
       "3  75        0          0          1          0      \n",
       "4  25        0          0          1          1      \n",
       "5  28        0          1          0          0      \n",
       "6  72        0          1          0          1      \n",
       "7  69        0          1          1          0      \n",
       "8  31        0          1          1          1      \n",
       "9  68        1          0          0          0      \n",
       "10 32        1          0          0          1      \n",
       "11 18        1          0          1          0      \n",
       "12 82        1          0          1          1      \n",
       "13 63        1          1          0          0      \n",
       "14 37        1          1          0          1      \n",
       "15 31        1          1          1          0      \n",
       "16 69        1          1          1          1      "
      ]
     },
     "metadata": {},
     "output_type": "display_data"
    }
   ],
   "source": [
    "observado  = c(41, 59, 75, 25, 28, 72, 69, 31, 68, 32, 18, 82, 63, 37, 31, 69)\n",
    "orientacao = c( 0,  0,  0,  0,  0,  0,  0,  0,  1,  1,  1,  1,  1,  1,  1,  1)\n",
    "iluminacao = c( 0,  0,  0,  0,  1,  1,  1,  1,  0,  0,  0,  0,  1,  1,  1,  1)\n",
    "transporte = c( 0,  0,  1,  1,  0,  0,  1,  1,  0,  0,  1,  1,  0,  0,  1,  1)\n",
    "escolha  = c( 0,  1,  0,  1,  0,  1,  0,  1,  0,  1,  0,  1,  0,  1,  0,  1)\n",
    "exp_data = data.frame(observado, orientacao, iluminacao, transporte, escolha)\n",
    "exp_data"
   ]
  },
  {
   "cell_type": "markdown",
   "metadata": {},
   "source": [
    "Por exemplo, na situação em que as colônias tinham a mesma orientação (orientação = 0), na ausência de luz (iluminação = 0), e não tranportavam (transporte = 0), 41 formigas foram para um lado, e 59 foram para outro"
   ]
  },
  {
   "cell_type": "markdown",
   "metadata": {},
   "source": [
    "## 2. Análise"
   ]
  },
  {
   "cell_type": "markdown",
   "metadata": {},
   "source": [
    "Análise segue a descrição do Zar [1] (pág 505) de análise de tabelas de contigência de 3 dimensões. No entanto, neste caso temos quatro dimensões. Uma das possibilidades seria fazer como o Zar, utilisando análises de qui-quadradro. Outra possibilidade é usar as análises segundo modelos log-lineares, é exatamente a mesma coisa, e a interpretação é idêntica à do livro.\n",
    "As fórmulas para testar modelos de independência mútua utilizadas foram obtidas em [2]"
   ]
  },
  {
   "cell_type": "code",
   "execution_count": 8,
   "metadata": {
    "collapsed": true
   },
   "outputs": [],
   "source": [
    "library(MASS)    # importa um pacote\n",
    "library(gmodels) # importa outro pacote\n",
    "\n",
    "# monta tabelas cruzadas (sub tabelas de contingência) a partir dos dados acima\n",
    "mytable <- xtabs(observado ~ orientacao + iluminacao + transporte + escolha)"
   ]
  },
  {
   "cell_type": "markdown",
   "metadata": {},
   "source": [
    "### 2.1 Testar independência mútua entre todas as váriaveis independentes (preditoras, fatores)"
   ]
  },
  {
   "cell_type": "code",
   "execution_count": 10,
   "metadata": {
    "collapsed": false
   },
   "outputs": [
    {
     "data": {
      "text/plain": [
       "Call:\n",
       "loglm(formula = ~orientacao + iluminacao + transporte + escolha, \n",
       "    data = mytable)\n",
       "\n",
       "Statistics:\n",
       "                      X^2 df P(> X^2)\n",
       "Likelihood Ratio 143.2771 11        0\n",
       "Pearson          136.9569 11        0"
      ]
     },
     "metadata": {},
     "output_type": "display_data"
    }
   ],
   "source": [
    "loglm(~orientacao + iluminacao + transporte + escolha, mytable)"
   ]
  },
  {
   "cell_type": "markdown",
   "metadata": {},
   "source": [
    "rejeita-se H0 de que os fatores sejam mutuamente independentes, portanto pode-se testar as independencias mútuas parciais\n"
   ]
  },
  {
   "cell_type": "markdown",
   "metadata": {},
   "source": [
    "### 2.2 Independências mútuas parciais"
   ]
  },
  {
   "cell_type": "markdown",
   "metadata": {},
   "source": [
    "#### 2.2.1 Testar se **orientacao** é parcialmente independente do resto"
   ]
  },
  {
   "cell_type": "code",
   "execution_count": 12,
   "metadata": {
    "collapsed": false
   },
   "outputs": [
    {
     "data": {
      "text/plain": [
       "Call:\n",
       "loglm(formula = ~orientacao + iluminacao + transporte + escolha + \n",
       "    iluminacao * transporte * escolha, data = mytable)\n",
       "\n",
       "Statistics:\n",
       "                      X^2 df P(> X^2)\n",
       "Likelihood Ratio 139.2969  7        0\n",
       "Pearson          133.5791  7        0"
      ]
     },
     "metadata": {},
     "output_type": "display_data"
    }
   ],
   "source": [
    "loglm(~orientacao + iluminacao + transporte + escolha + iluminacao*transporte*escolha, mytable)"
   ]
  },
  {
   "cell_type": "markdown",
   "metadata": {},
   "source": [
    "#### 2.2.2 Testar se **iluminacao** é parcialmente independente do resto"
   ]
  },
  {
   "cell_type": "code",
   "execution_count": 16,
   "metadata": {
    "collapsed": false
   },
   "outputs": [
    {
     "data": {
      "text/plain": [
       "Call:\n",
       "loglm(formula = ~orientacao + iluminacao + transporte + escolha + \n",
       "    orientacao * transporte * escolha, data = mytable)\n",
       "\n",
       "Statistics:\n",
       "                      X^2 df  P(> X^2)\n",
       "Likelihood Ratio 9.815082  7 0.1992971\n",
       "Pearson          9.753552  7 0.2029749"
      ]
     },
     "metadata": {},
     "output_type": "display_data"
    }
   ],
   "source": [
    "loglm(~orientacao + iluminacao + transporte + escolha + orientacao*transporte*escolha, mytable)"
   ]
  },
  {
   "cell_type": "markdown",
   "metadata": {},
   "source": [
    "#### 2.2.3 Testar se transporte é parcialmente independente do resto"
   ]
  },
  {
   "cell_type": "code",
   "execution_count": 19,
   "metadata": {
    "collapsed": false
   },
   "outputs": [
    {
     "data": {
      "text/plain": [
       "Call:\n",
       "loglm(formula = ~orientacao + iluminacao + transporte + escolha + \n",
       "    orientacao * iluminacao * escolha, data = mytable)\n",
       "\n",
       "Statistics:\n",
       "                      X^2 df P(> X^2)\n",
       "Likelihood Ratio 133.5467  7        0\n",
       "Pearson          128.9313  7        0"
      ]
     },
     "metadata": {},
     "output_type": "display_data"
    }
   ],
   "source": [
    "loglm(~orientacao + iluminacao + transporte + escolha + orientacao*iluminacao*escolha, mytable)"
   ]
  },
  {
   "cell_type": "markdown",
   "metadata": {},
   "source": [
    "#### 2.2.4 Testar se escolha é parcialmente independente do resto"
   ]
  },
  {
   "cell_type": "code",
   "execution_count": 20,
   "metadata": {
    "collapsed": false
   },
   "outputs": [
    {
     "data": {
      "text/plain": [
       "Call:\n",
       "loglm(formula = ~orientacao + iluminacao + transporte + escolha + \n",
       "    orientacao * iluminacao * transporte, data = mytable)\n",
       "\n",
       "Statistics:\n",
       "                      X^2 df P(> X^2)\n",
       "Likelihood Ratio 143.2771  7        0\n",
       "Pearson          136.9569  7        0"
      ]
     },
     "metadata": {},
     "output_type": "display_data"
    }
   ],
   "source": [
    "loglm(~orientacao + iluminacao + transporte + escolha + orientacao*iluminacao*transporte, mytable)"
   ]
  },
  {
   "cell_type": "markdown",
   "metadata": {},
   "source": [
    "## 3. Referências"
   ]
  },
  {
   "cell_type": "markdown",
   "metadata": {},
   "source": [
    "[1] Zar, Jerrold H. \"Biostatistical analysis. 4th.\" New Jersey, USA (1999): 929.\n",
    "APA. Pag 505."
   ]
  },
  {
   "cell_type": "markdown",
   "metadata": {},
   "source": [
    "[2] http://www.statmethods.net/stats/frequencies.html - LogLinear Models - Mutual Independence"
   ]
  }
 ],
 "metadata": {
  "kernelspec": {
   "display_name": "R",
   "language": "R",
   "name": "ir"
  },
  "language_info": {
   "codemirror_mode": "r",
   "file_extension": ".r",
   "mimetype": "text/x-r-source",
   "name": "R",
   "pygments_lexer": "r",
   "version": "3.2.2"
  }
 },
 "nbformat": 4,
 "nbformat_minor": 0
}
